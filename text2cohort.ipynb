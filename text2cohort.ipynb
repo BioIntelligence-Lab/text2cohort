{
  "cells": [
    {
      "cell_type": "code",
      "execution_count": null,
      "metadata": {
        "id": "qtb_tGlHUTUo"
      },
      "outputs": [],
      "source": [
        "# Authenticate google account\n",
        "\n",
        "from google.colab import auth\n",
        "auth.authenticate_user()"
      ]
    },
    {
      "cell_type": "code",
      "execution_count": null,
      "metadata": {
        "id": "QVRMot0dVhDE"
      },
      "outputs": [],
      "source": [
        "# Install OpenAI\n",
        "!pip install openai"
      ]
    },
    {
      "cell_type": "code",
      "execution_count": null,
      "metadata": {
        "id": "kGOOodKgX67u"
      },
      "outputs": [],
      "source": [
        "import openai\n",
        "import re\n",
        "import os\n",
        "from google.cloud import bigquery\n",
        "\n",
        "openai_api_key = \"your open api key\"\n",
        "openai.api_key = openai_api_key\n",
        "os.environ[\"OPENAI_API_KEY\"] = openai_api_key\n",
        "\n",
        "# Handle OpenAI Rate limits\n",
        "openai_rpm = 3\n",
        "t2c_sleep = 60/openai_rpm\n",
        "t2c_sleep = t2c_sleep if t2c_sleep >= 1 else 0"
      ]
    },
    {
      "cell_type": "code",
      "execution_count": null,
      "metadata": {
        "id": "E_uTYg1HFqza"
      },
      "outputs": [],
      "source": [
        "# Set-up all the modules with engineered prompts.\n",
        "import time\n",
        "pretext= 'Make sure to use regex. Please be as specific as possible and only return the final query enclosed in ```. Do not provide explanations. Using the table: bigquery-public-data.idc_current.dicom_all: '\n",
        "def text2cohort(prompt):\n",
        "\n",
        "  # Setup: Priming the LLM to understand the task\n",
        "  messages = []\n",
        "  content = pretext\n",
        "  messages.append({\"role\": \"user\", \"content\": content})\n",
        "  completion = openai.ChatCompletion.create(\n",
        "    model = \"gpt-3.5-turbo-0301\",\n",
        "    messages = messages\n",
        "  )\n",
        "  chat_response = completion.choices[0].message.content\n",
        "  messages.append({\"role\": \"assistant\", \"content\": chat_response})\n",
        "\n",
        "  # Again prime the LLM + get response for your task\n",
        "\n",
        "  messages.append({\"role\": \"user\", \"content\": prompt})\n",
        "  completion = openai.ChatCompletion.create(\n",
        "    model = \"gpt-3.5-turbo-0301\",\n",
        "    messages = messages\n",
        "  )\n",
        "  chat_response = completion.choices[0].message.content\n",
        "  messages.append({\"role\": \"assistant\", \"content\": chat_response})\n",
        "  print(chat_response)\n",
        "\n",
        "  # Parse the chat response and get the query\n",
        "  query = parse(chat_response)\n",
        "  print(query)\n",
        "\n",
        "  # run the big query and get the response dataframe \n",
        "  df, e, success = runBigQuery(query[0])\n",
        "  k = 1\n",
        "  time.sleep(t2c_sleep)\n",
        "  while success == 0 and k < 10:\n",
        "    messages.append({\"role\": \"user\", \"content\": str(e)})\n",
        "    completion = openai.ChatCompletion.create(\n",
        "      model = \"gpt-3.5-turbo-0301\",\n",
        "      messages = messages\n",
        "    )\n",
        "    chat_response = completion.choices[0].message.content\n",
        "    messages.append({\"role\": \"assistant\", \"content\": chat_response})\n",
        "    print(chat_response)\n",
        "    query = parse(chat_response)\n",
        "    print(query)\n",
        "    df, e, success = runBigQuery(query[0])\n",
        "    k += 1\n",
        "    time.sleep(t2c_sleep)\n",
        "  return df\n",
        "\n",
        "def parse(chat_response):\n",
        "  code_blocks = re.findall(r\"```(.+?)```\", chat_response, re.DOTALL)\n",
        "  return code_blocks\n",
        "  \n",
        "\n",
        "def runBigQuery(query):\n",
        "  # Construct a BigQuery client object.\n",
        "  e = 0\n",
        "  df = 0\n",
        "  success = 0\n",
        "  try:\n",
        "    client = bigquery.Client(project='Replace with your GCP Project ID')\n",
        "    df = client.query(query).to_dataframe()\n",
        "    print(df.head())\n",
        "    success = 1\n",
        "  except Exception as e:\n",
        "    print(str(e))\n",
        "    success = 0\n",
        "    return df, e, success\n",
        "  return df, e, success"
      ]
    },
    {
      "cell_type": "code",
      "execution_count": null,
      "metadata": {
        "id": "s6Gcaap5HuCP"
      },
      "outputs": [],
      "source": [
        "# Text2Cohort\n",
        "df = text2cohort(pretext+'List all collections that contain segmentation images')"
      ]
    }
  ],
  "metadata": {
    "colab": {
      "provenance": []
    },
    "kernelspec": {
      "display_name": "Python 3",
      "name": "python3"
    },
    "language_info": {
      "name": "python",
      "version": "3.9.13"
    }
  },
  "nbformat": 4,
  "nbformat_minor": 0
}
