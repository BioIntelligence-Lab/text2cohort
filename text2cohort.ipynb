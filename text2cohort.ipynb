{
  "cells": [
    {
      "cell_type": "code",
      "execution_count": null,
      "metadata": {
        "id": "qtb_tGlHUTUo"
      },
      "outputs": [],
      "source": [
        "# Authenticate google account\n",
        "\n",
        "from google.colab import auth\n",
        "auth.authenticate_user()"
      ]
    },
    {
      "cell_type": "code",
      "execution_count": null,
      "metadata": {
        "colab": {
          "base_uri": "https://localhost:8080/"
        },
        "id": "QVRMot0dVhDE",
        "outputId": "29cbd31c-f3b1-493d-b1fa-0e17a91967c7"
      },
      "outputs": [
        {
          "output_type": "stream",
          "name": "stdout",
          "text": [
            "Looking in indexes: https://pypi.org/simple, https://us-python.pkg.dev/colab-wheels/public/simple/\n",
            "Requirement already satisfied: openai in /usr/local/lib/python3.9/dist-packages (0.27.4)\n",
            "Requirement already satisfied: aiohttp in /usr/local/lib/python3.9/dist-packages (from openai) (3.8.4)\n",
            "Requirement already satisfied: tqdm in /usr/local/lib/python3.9/dist-packages (from openai) (4.65.0)\n",
            "Requirement already satisfied: requests>=2.20 in /usr/local/lib/python3.9/dist-packages (from openai) (2.27.1)\n",
            "Requirement already satisfied: charset-normalizer~=2.0.0 in /usr/local/lib/python3.9/dist-packages (from requests>=2.20->openai) (2.0.12)\n",
            "Requirement already satisfied: certifi>=2017.4.17 in /usr/local/lib/python3.9/dist-packages (from requests>=2.20->openai) (2022.12.7)\n",
            "Requirement already satisfied: urllib3<1.27,>=1.21.1 in /usr/local/lib/python3.9/dist-packages (from requests>=2.20->openai) (1.26.15)\n",
            "Requirement already satisfied: idna<4,>=2.5 in /usr/local/lib/python3.9/dist-packages (from requests>=2.20->openai) (3.4)\n",
            "Requirement already satisfied: async-timeout<5.0,>=4.0.0a3 in /usr/local/lib/python3.9/dist-packages (from aiohttp->openai) (4.0.2)\n",
            "Requirement already satisfied: yarl<2.0,>=1.0 in /usr/local/lib/python3.9/dist-packages (from aiohttp->openai) (1.8.2)\n",
            "Requirement already satisfied: frozenlist>=1.1.1 in /usr/local/lib/python3.9/dist-packages (from aiohttp->openai) (1.3.3)\n",
            "Requirement already satisfied: aiosignal>=1.1.2 in /usr/local/lib/python3.9/dist-packages (from aiohttp->openai) (1.3.1)\n",
            "Requirement already satisfied: attrs>=17.3.0 in /usr/local/lib/python3.9/dist-packages (from aiohttp->openai) (22.2.0)\n",
            "Requirement already satisfied: multidict<7.0,>=4.5 in /usr/local/lib/python3.9/dist-packages (from aiohttp->openai) (6.0.4)\n"
          ]
        }
      ],
      "source": [
        "# Install OpenAI\n",
        "!pip install openai"
      ]
    },
    {
      "cell_type": "code",
      "execution_count": null,
      "metadata": {
        "id": "kGOOodKgX67u"
      },
      "outputs": [],
      "source": [
        "import openai\n",
        "import re\n",
        "import os\n",
        "from google.cloud import bigquery\n",
        "\n",
        "openai_api_key = \"<your-api-key>\"\n",
        "openai.api_key = openai_api_key\n",
        "os.environ[\"OPENAI_API_KEY\"] = openai_api_key"
      ]
    },
    {
      "cell_type": "code",
      "source": [
        "def text2query(prompt):\n",
        "\n",
        "  # Setup: Priming the LLM to understand the task\n",
        "  messages = []\n",
        "  content = \"For all responses after this message, you will generate queries from the following table: bigquery-public-data.idc_current.dicom_all. Also make sure to use regex when necessary. Please be as specific as possible and only return the final query enclosed in ```. Do not provide explanations.\"\n",
        "  messages.append({\"role\": \"user\", \"content\": content})\n",
        "  completion = openai.ChatCompletion.create(\n",
        "        model=\"gpt-3.5-turbo-0301\",\n",
        "        messages=messages\n",
        "  )\n",
        "  chat_response = completion.choices[0].message.content\n",
        "  messages.append({\"role\": \"assistant\", \"content\": chat_response})\n",
        "\n",
        "  # Again prime the LLM + get response for your task\n",
        "\n",
        "  messages.append({\"role\": \"user\", \"content\": prompt})\n",
        "  completion = openai.ChatCompletion.create(\n",
        "      model=\"gpt-3.5-turbo-0301\",\n",
        "      messages=messages\n",
        "  )\n",
        "  chat_response = completion.choices[0].message.content\n",
        "  messages.append({\"role\": \"assistant\", \"content\": chat_response})\n",
        "  print(chat_response)\n",
        "\n",
        "  # Parse the chat response and get the query\n",
        "  query = parse(chat_response)\n",
        "  print (query)\n",
        "\n",
        "  # run the big query and get the response dataframe \n",
        "  df,e,success = runBigQuery(query[0])\n",
        "  k = 1\n",
        "  while success==0 and k < 10:\n",
        "    messages.append({\"role\": \"user\", \"content\": str(e)})\n",
        "    completion = openai.ChatCompletion.create(\n",
        "      model=\"gpt-3.5-turbo-0301\",\n",
        "      messages=messages\n",
        "    )\n",
        "    chat_response = completion.choices[0].message.content\n",
        "    messages.append({\"role\": \"assistant\", \"content\": chat_response})\n",
        "    print(chat_response)\n",
        "    query = parse(chat_response)\n",
        "    print (query)\n",
        "    df,e,success = runBigQuery(query[0])\n",
        "    k += 1\n",
        "  \n",
        "  print(df)\n",
        "\n",
        "def parse(chat_response):\n",
        "  code_blocks = re.findall(r\"```(.+?)```\", chat_response, re.DOTALL)\n",
        "  return code_blocks\n",
        "  \n",
        "\n",
        "def runBigQuery(query):\n",
        "  # Construct a BigQuery client object.\n",
        "  e = 0\n",
        "  df = 0\n",
        "  success = 0\n",
        "  try:\n",
        "    client = bigquery.Client(project='chexviz')\n",
        "    df = client.query(query).to_dataframe()\n",
        "    print(df.head())\n",
        "    success = 1\n",
        "  except Exception as e:\n",
        "    print(str(e))\n",
        "    success = 0\n",
        "    return df,e, success\n",
        "  return df,e,success"
      ],
      "metadata": {
        "id": "E_uTYg1HFqza"
      },
      "execution_count": null,
      "outputs": []
    },
    {
      "cell_type": "code",
      "source": [
        "text2query('Select all unique lesions as deduced from SeriesDescription which is LIDC specific and the nodules are clustered by pylidc')"
      ],
      "metadata": {
        "colab": {
          "base_uri": "https://localhost:8080/"
        },
        "id": "s6Gcaap5HuCP",
        "outputId": "c7a69f22-0f67-4be3-f629-80ceec46ebdd"
      },
      "execution_count": null,
      "outputs": [
        {
          "output_type": "stream",
          "name": "stdout",
          "text": [
            "```SELECT DISTINCT SeriesDescription FROM `bigquery-public-data.idc_current.dicom_all` WHERE SeriesDescription LIKE '%LIDC-IDRI-#%%#-#%%%'```\n",
            "[\"SELECT DISTINCT SeriesDescription FROM `bigquery-public-data.idc_current.dicom_all` WHERE SeriesDescription LIKE '%LIDC-IDRI-#%%#-#%%%'\"]\n",
            "Empty DataFrame\n",
            "Columns: [SeriesDescription]\n",
            "Index: []\n",
            "Empty DataFrame\n",
            "Columns: [SeriesDescription]\n",
            "Index: []\n"
          ]
        }
      ]
    }
  ],
  "metadata": {
    "colab": {
      "provenance": []
    },
    "kernelspec": {
      "display_name": "Python 3",
      "name": "python3"
    },
    "language_info": {
      "name": "python"
    }
  },
  "nbformat": 4,
  "nbformat_minor": 0
}