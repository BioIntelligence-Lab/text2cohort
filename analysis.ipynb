{
 "cells": [
  {
   "cell_type": "code",
   "execution_count": 57,
   "metadata": {},
   "outputs": [],
   "source": [
    "import numpy as np\n",
    "from sklearn import metrics\n",
    "import Levenshtein"
   ]
  },
  {
   "cell_type": "code",
   "execution_count": 58,
   "metadata": {},
   "outputs": [],
   "source": [
    "def calculuate_metrics(y_true, y_pred):\n",
    "  acc = metrics.accuracy_score(y_true, y_pred)\n",
    "  f1 = metrics.f1_score(y_true, y_pred)\n",
    "  _, _, fn, tp = metrics.confusion_matrix(y_true, y_pred).ravel()\n",
    "  return {\n",
    "    'accuracy': np.around(acc, 4),\n",
    "    'f1': np.around(f1, 4),\n",
    "    'incorrect': np.around(fn, 4),\n",
    "    'correct': np.around(tp, 4)\n",
    "  }"
   ]
  },
  {
   "cell_type": "code",
   "execution_count": 59,
   "metadata": {},
   "outputs": [
    {
     "name": "stdout",
     "output_type": "stream",
     "text": [
      "Overall:\n",
      "{'accuracy': 0.88, 'f1': 0.9362, 'incorrect': 6, 'correct': 44}\n",
      "Information Extraction:\n",
      "{'accuracy': 0.9, 'f1': 0.9474, 'incorrect': 2, 'correct': 18}\n",
      "Cohort Discovery:\n",
      "{'accuracy': 0.8667, 'f1': 0.9286, 'incorrect': 4, 'correct': 26}\n"
     ]
    }
   ],
   "source": [
    "y_extraction = np.array([1, 1, 1, 1, 1, 1, 1, 0, 1, 1, 1, 1, 1, 1, 0, 1, 1, 1, 1, 1])\n",
    "y_cohort = np.array([1, 1, 1, 1, 1, 1, 0, 1, 0, 1, 0, 1, 1, 1, 1, 1, 1, 1, 1, 1, 1, 0, 1, 1, 1, 1, 1, 1, 1, 1])\n",
    "y_all = np.concatenate((y_extraction, y_cohort))\n",
    "\n",
    "print('Overall:')\n",
    "print(calculuate_metrics([1]*y_all.size, y_all))"
   ]
  },
  {
   "cell_type": "code",
   "execution_count": 60,
   "metadata": {},
   "outputs": [],
   "source": [
    "incorrect_queries = [\n",
    "  \"SELECT COUNT(DISTINCT collection_id) FROM `bigquery-public-data.idc_current.dicom_all` GROUP BY collection_id HAVING COUNT(DISTINCT PatientID) >= 500\",\n",
    "\n",
    "  \"SELECT COUNT(DISTINCT PatientID) AS num_patients, COUNT(*) AS num_images, COUNT(DISTINCT Modality) AS num_modalities, COUNT(DISTINCT BodyPartExamined) AS num_body_parts, COUNT(DISTINCT SequenceName) AS num_sequences, COUNT(DISTINCT StationName) AS num_scanners FROM `bigquery-public-data.idc_current.dicom_all` WHERE collection_id = 'upenn_gbm'\",\n",
    "\n",
    "  \"SELECT COUNT(DISTINCT StudyInstanceUID) FROM `bigquery-public-data.idc_current.dicom_all` WHERE Modality='MR' AND BodyPartExamined='BRAIN'\",\n",
    "\n",
    "  \"SELECT DISTINCT collection_id FROM `bigquery-public-data.idc_current.dicom_all` WHERE modality = 'CT' AND BodyPartExamined LIKE '%Lung%'\",\n",
    "\n",
    "  \"SELECT collection_id, ROUND(SUM(file_size)/POWER(10,9),2) AS download_size_GB FROM `bigquery-public-data.idc_current.dicom_all` GROUP BY collection_id\",\n",
    "\n",
    "  \"SELECT DISTINCT collection_id FROM `bigquery-public-data.idc_current.dicom_all` WHERE StudyDescription LIKE '%glioblastoma%'\"\n",
    "]\n",
    "\n",
    "correct_queries = [\n",
    "  \"SELECT COUNT(collection_id) FROM `bigquery-public-data.idc_current.dicom_all` GROUP BY collection_id HAVING COUNT(DISTINCT PatientID) >= 500\",\n",
    "\n",
    "  \"SELECT COUNT(DISTINCT PatientID) AS num_patients, COUNT(*) AS num_images, COUNT(DISTINCT Modality) AS num_modalities, COUNT(DISTINCT BodyPartExamined) AS num_body_parts, COUNT(DISTINCT SequenceName) AS num_sequences, COUNT(DISTINCT ManufacturerModelName) AS num_scanners FROM `bigquery-public-data.idc_current.dicom_all` WHERE collection_id = 'upenn_gbm'\",\n",
    "\n",
    "  \"SELECT COUNT(DISTINCT collection_id) FROM `bigquery-public-data.idc_current.dicom_all` WHERE Modality='MR' AND BodyPartExamined='BRAIN'\",\n",
    "\n",
    "  \"SELECT DISTINCT collection_id FROM `bigquery-public-data.idc_current.dicom_all` WHERE modality = 'CT' AND LOWER(BodyPartExamined) LIKE '%lung%'\",\n",
    "\n",
    "  \"SELECT collection_id, ROUND(SUM(instance_size)/POWER(10,9),2) AS download_size_GB FROM `bigquery-public-data.idc_current.dicom_all` GROUP BY collection_id\",\n",
    "\n",
    "  \"SELECT DISTINCT collection_id FROM `bigquery-public-data.idc_current.dicom_all` WHERE LOWER(collection_cancerType) LIKE '%glioblastoma%'\"\n",
    "]"
   ]
  },
  {
   "cell_type": "code",
   "execution_count": 61,
   "metadata": {},
   "outputs": [
    {
     "name": "stdout",
     "output_type": "stream",
     "text": [
      "[9, 14, 15, 8, 7, 24] 12.833333333333334 5.814254514170802\n"
     ]
    }
   ],
   "source": [
    "lev = []\n",
    "for i, (correct, incorrect) in enumerate(zip(correct_queries, incorrect_queries)):\n",
    "  lev += [Levenshtein.distance(correct, incorrect)]\n",
    "print(lev, np.mean(lev), np.std(lev))"
   ]
  }
 ],
 "metadata": {
  "kernelspec": {
   "display_name": "base",
   "language": "python",
   "name": "python3"
  },
  "language_info": {
   "codemirror_mode": {
    "name": "ipython",
    "version": 3
   },
   "file_extension": ".py",
   "mimetype": "text/x-python",
   "name": "python",
   "nbconvert_exporter": "python",
   "pygments_lexer": "ipython3",
   "version": "3.9.13"
  },
  "orig_nbformat": 4
 },
 "nbformat": 4,
 "nbformat_minor": 2
}
